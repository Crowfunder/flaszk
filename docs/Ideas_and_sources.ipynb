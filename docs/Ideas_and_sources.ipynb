{
 "cells": [
  {
   "cell_type": "markdown",
   "id": "f92541c6",
   "metadata": {},
   "source": [
    "# Protocol for device connection\n",
    "So the idea is that it will work using network sockets and will base of Shamir Algoritm (more written below) --> In case it will to complicated or time consuming we will switch it to Diffie-Hellman Algorithm\n",
    "## setting up connection\n",
    "Whole algorithm will be implemented in sockets\n",
    "1. Before starting algorithm we check if right ip address was given by user (does it exist in our network)\n",
    "2. send message to check if it is busy right now (synchronising) - next steps depends on approach to multithreading.\n",
    "3. if not proceed to 4, otherwise wait. After 30 sec show message 'Try again later' to user \n",
    "4. It will be implemented as it is shown on this [website]('https://medium.com/@oferrivlin/the-three-pass-protocol-magic-e84614827ef0') K is id of of connection that can be used in the next steps 'Do we want to encode our files before sending?'\n",
    "5. In case that check message is incorrectly deciphered repeat proccess one more time before throwing error message\n",
    "\n",
    "## socket programming python\n",
    "BAsics needed on thi [site]('https://www.datacamp.com/tutorial/a-complete-guide-to-socket-programming-in-python') <br>\n",
    "[Flask extension]('https://flask-socketio.readthedocs.io/en/latest/')"
   ]
  }
 ],
 "metadata": {
  "language_info": {
   "name": "python"
  }
 },
 "nbformat": 4,
 "nbformat_minor": 5
}
